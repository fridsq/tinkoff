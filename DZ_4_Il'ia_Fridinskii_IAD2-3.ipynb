{
  "nbformat": 4,
  "nbformat_minor": 0,
  "metadata": {
    "kernelspec": {
      "display_name": "Python 3",
      "language": "python",
      "name": "python3"
    },
    "language_info": {
      "codemirror_mode": {
        "name": "ipython",
        "version": 3
      },
      "file_extension": ".py",
      "mimetype": "text/x-python",
      "name": "python",
      "nbconvert_exporter": "python",
      "pygments_lexer": "ipython3",
      "version": "3.6.10"
    },
    "colab": {
      "name": "ДЗ 4 Илья Фридинский ИАД2",
      "provenance": [],
      "collapsed_sections": []
    }
  },
  "cells": [
    {
      "cell_type": "markdown",
      "metadata": {
        "id": "VyPubw_n-SY9",
        "colab_type": "text"
      },
      "source": [
        "## Домашнее задание № 4"
      ]
    },
    {
      "cell_type": "markdown",
      "metadata": {
        "id": "0ozbq6Ww-SZC",
        "colab_type": "text"
      },
      "source": [
        "### Ансамблевые методы "
      ]
    },
    {
      "cell_type": "markdown",
      "metadata": {
        "id": "3Af160XB-SZF",
        "colab_type": "text"
      },
      "source": [
        "**Дедлайн: 3.06.2020 0:30** \n",
        "Сопровождайте код изображениями и комментариями. Не игнорируйте вопросы, ваши выводы тоже оцениваются. Чем больше информации вы сможете извлечь, аргументированных выводов сформулировать, тем лучше. Не забывайте подписывать графики и будет вам счастье!\n",
        "\n",
        "**Максимальный балл: 10**"
      ]
    },
    {
      "cell_type": "code",
      "metadata": {
        "ExecuteTime": {
          "end_time": "2020-05-17T00:15:19.512036Z",
          "start_time": "2020-05-17T00:15:14.993278Z"
        },
        "id": "uShHf-Cm-SZH",
        "colab_type": "code",
        "colab": {}
      },
      "source": [
        "import pandas as pd\n",
        "import numpy as np\n",
        "import matplotlib.pyplot as plt\n",
        "import os\n",
        "\n",
        "%matplotlib inline"
      ],
      "execution_count": 0,
      "outputs": []
    },
    {
      "cell_type": "markdown",
      "metadata": {
        "id": "-hyVVpc3-SZX",
        "colab_type": "text"
      },
      "source": [
        "**0. (0 баллов) ** Загрузите [датасет](https://www.kaggle.com/uciml/pima-indians-diabetes-database/data), в нем вы найдете данные опрошенных женщин из индейского племени Пима. Будем решать задачу бинарной классификации: в колонке Outcome лежит метка наличия или отсутствия диабета - это наша целевая переменная. Есть ли пропущенные значения?"
      ]
    },
    {
      "cell_type": "code",
      "metadata": {
        "ExecuteTime": {
          "end_time": "2020-05-17T10:01:14.609345Z",
          "start_time": "2020-05-17T10:01:14.469580Z"
        },
        "id": "crnYoJGh-SZb",
        "colab_type": "code",
        "outputId": "4aacede8-3ead-4874-b0ec-10a9f41e10a0",
        "colab": {
          "base_uri": "https://localhost:8080/",
          "height": 479
        }
      },
      "source": [
        "!wget = https://www.dropbox.com/s/g0jaiimevu1qfv7/diabetes.csv\n",
        "data = pd.read_csv('./diabetes.csv')"
      ],
      "execution_count": 2,
      "outputs": [
        {
          "output_type": "stream",
          "text": [
            "--2020-05-30 09:54:22--  http://=/\n",
            "Resolving = (=)... failed: Name or service not known.\n",
            "wget: unable to resolve host address ‘=’\n",
            "--2020-05-30 09:54:22--  https://www.dropbox.com/s/g0jaiimevu1qfv7/diabetes.csv\n",
            "Resolving www.dropbox.com (www.dropbox.com)... 162.125.5.1, 2620:100:601d:1::a27d:501\n",
            "Connecting to www.dropbox.com (www.dropbox.com)|162.125.5.1|:443... connected.\n",
            "HTTP request sent, awaiting response... 301 Moved Permanently\n",
            "Location: /s/raw/g0jaiimevu1qfv7/diabetes.csv [following]\n",
            "--2020-05-30 09:54:22--  https://www.dropbox.com/s/raw/g0jaiimevu1qfv7/diabetes.csv\n",
            "Reusing existing connection to www.dropbox.com:443.\n",
            "HTTP request sent, awaiting response... 302 Found\n",
            "Location: https://uc5211f76203292fec924ab0b6aa.dl.dropboxusercontent.com/cd/0/inline/A4tP7n1jq-E9Ih21BFpTJDy81bnpsSHU1H3OX4i9QORIdMVv7bmDbuYQnSlU91f_TyrUsSwQs7Qe_uMF0Mzqrte0jEJaSSbJjc4YjfrRgg2lv4JHLW5X5pjuNaLdTGwSEns/file# [following]\n",
            "--2020-05-30 09:54:22--  https://uc5211f76203292fec924ab0b6aa.dl.dropboxusercontent.com/cd/0/inline/A4tP7n1jq-E9Ih21BFpTJDy81bnpsSHU1H3OX4i9QORIdMVv7bmDbuYQnSlU91f_TyrUsSwQs7Qe_uMF0Mzqrte0jEJaSSbJjc4YjfrRgg2lv4JHLW5X5pjuNaLdTGwSEns/file\n",
            "Resolving uc5211f76203292fec924ab0b6aa.dl.dropboxusercontent.com (uc5211f76203292fec924ab0b6aa.dl.dropboxusercontent.com)... 162.125.5.6, 2620:100:601d:6::a27d:506\n",
            "Connecting to uc5211f76203292fec924ab0b6aa.dl.dropboxusercontent.com (uc5211f76203292fec924ab0b6aa.dl.dropboxusercontent.com)|162.125.5.6|:443... connected.\n",
            "HTTP request sent, awaiting response... 200 OK\n",
            "Length: 23873 (23K) [text/plain]\n",
            "Saving to: ‘diabetes.csv’\n",
            "\n",
            "diabetes.csv        100%[===================>]  23.31K  --.-KB/s    in 0.02s   \n",
            "\n",
            "2020-05-30 09:54:23 (940 KB/s) - ‘diabetes.csv’ saved [23873/23873]\n",
            "\n",
            "FINISHED --2020-05-30 09:54:23--\n",
            "Total wall clock time: 1.1s\n",
            "Downloaded: 1 files, 23K in 0.02s (940 KB/s)\n"
          ],
          "name": "stdout"
        }
      ]
    },
    {
      "cell_type": "code",
      "metadata": {
        "id": "dW1FoysGADFC",
        "colab_type": "code",
        "outputId": "4160b4ff-63d9-4cbb-934c-5159d7eba3ef",
        "colab": {
          "base_uri": "https://localhost:8080/",
          "height": 34
        }
      },
      "source": [
        "#проверим, есть ли пропуски в Outcome?\n",
        "data['Outcome'].isnull().any()"
      ],
      "execution_count": 3,
      "outputs": [
        {
          "output_type": "execute_result",
          "data": {
            "text/plain": [
              "False"
            ]
          },
          "metadata": {
            "tags": []
          },
          "execution_count": 3
        }
      ]
    },
    {
      "cell_type": "code",
      "metadata": {
        "id": "4duKQ93OASkF",
        "colab_type": "code",
        "colab": {}
      },
      "source": [
        "#В целевой переменной пропусков нет."
      ],
      "execution_count": 0,
      "outputs": []
    },
    {
      "cell_type": "markdown",
      "metadata": {
        "id": "i3SmVTEU-SZs",
        "colab_type": "text"
      },
      "source": [
        "**1. (0.5 балла)** Как вы думаете, является ли наличие нулей в некоторых колонках фактом того, что эти признаки имеют пропущенные значения? Замените нули на среднее значение признака там, где считаете это целесообразным."
      ]
    },
    {
      "cell_type": "code",
      "metadata": {
        "id": "dhX12MDYBfZx",
        "colab_type": "code",
        "outputId": "12ebdfe3-f035-42d9-978b-ef14bc23b2b0",
        "colab": {
          "base_uri": "https://localhost:8080/",
          "height": 68
        }
      },
      "source": [
        "#Проверим, какие признаки у нас вообще есть\n",
        "data.columns"
      ],
      "execution_count": 7,
      "outputs": [
        {
          "output_type": "execute_result",
          "data": {
            "text/plain": [
              "Index(['Pregnancies', 'Glucose', 'BloodPressure', 'SkinThickness', 'Insulin',\n",
              "       'BMI', 'DiabetesPedigreeFunction', 'Age', 'Outcome'],\n",
              "      dtype='object')"
            ]
          },
          "metadata": {
            "tags": []
          },
          "execution_count": 7
        }
      ]
    },
    {
      "cell_type": "code",
      "metadata": {
        "id": "sqPX3_IREH8A",
        "colab_type": "code",
        "outputId": "89b2b999-9e42-4de6-f384-063c56ae180e",
        "colab": {
          "base_uri": "https://localhost:8080/",
          "height": 51
        }
      },
      "source": [
        "print('Пропусков глюкозы:') \n",
        "len(data[(data['Glucose'] == 0)])\n"
      ],
      "execution_count": 8,
      "outputs": [
        {
          "output_type": "stream",
          "text": [
            "Пропусков глюкозы:\n"
          ],
          "name": "stdout"
        },
        {
          "output_type": "execute_result",
          "data": {
            "text/plain": [
              "5"
            ]
          },
          "metadata": {
            "tags": []
          },
          "execution_count": 8
        }
      ]
    },
    {
      "cell_type": "code",
      "metadata": {
        "id": "kd5gZ9niEoPQ",
        "colab_type": "code",
        "outputId": "b9372894-046a-4316-9eed-37d7a04fb16a",
        "colab": {
          "base_uri": "https://localhost:8080/",
          "height": 51
        }
      },
      "source": [
        "print('Пропусков давления:') \n",
        "len(data[(data['BloodPressure'] == 0)])"
      ],
      "execution_count": 0,
      "outputs": [
        {
          "output_type": "stream",
          "text": [
            "Пропусков давления:\n"
          ],
          "name": "stdout"
        },
        {
          "output_type": "execute_result",
          "data": {
            "text/plain": [
              "35"
            ]
          },
          "metadata": {
            "tags": []
          },
          "execution_count": 6
        }
      ]
    },
    {
      "cell_type": "code",
      "metadata": {
        "id": "KyO8a7npErmf",
        "colab_type": "code",
        "outputId": "a2e7e0ed-45b8-46bd-bd96-75aab129e354",
        "colab": {
          "base_uri": "https://localhost:8080/",
          "height": 51
        }
      },
      "source": [
        "print('Пропусков толщины кожной складки:') \n",
        "len(data[(data['SkinThickness'] == 0)])"
      ],
      "execution_count": 0,
      "outputs": [
        {
          "output_type": "stream",
          "text": [
            "Пропусков толщины кожной складки:\n"
          ],
          "name": "stdout"
        },
        {
          "output_type": "execute_result",
          "data": {
            "text/plain": [
              "227"
            ]
          },
          "metadata": {
            "tags": []
          },
          "execution_count": 7
        }
      ]
    },
    {
      "cell_type": "code",
      "metadata": {
        "id": "-Hj9XQFsExY_",
        "colab_type": "code",
        "outputId": "6251492b-17d9-4f31-eebc-de1e9667f5ff",
        "colab": {
          "base_uri": "https://localhost:8080/",
          "height": 51
        }
      },
      "source": [
        "print('Пропусков инсулина:') \n",
        "len(data[(data['Insulin'] == 0)])"
      ],
      "execution_count": 0,
      "outputs": [
        {
          "output_type": "stream",
          "text": [
            "Пропусков инсулина:\n"
          ],
          "name": "stdout"
        },
        {
          "output_type": "execute_result",
          "data": {
            "text/plain": [
              "374"
            ]
          },
          "metadata": {
            "tags": []
          },
          "execution_count": 8
        }
      ]
    },
    {
      "cell_type": "code",
      "metadata": {
        "id": "w_5VzpM_E_53",
        "colab_type": "code",
        "outputId": "e66bf1ad-0ed1-4766-92ec-2d165040c3b1",
        "colab": {
          "base_uri": "https://localhost:8080/",
          "height": 51
        }
      },
      "source": [
        "print('Пропусков индекса массы тела:') \n",
        "len(data[(data['BMI'] == 0)])"
      ],
      "execution_count": 0,
      "outputs": [
        {
          "output_type": "stream",
          "text": [
            "Пропусков индекса массы тела:\n"
          ],
          "name": "stdout"
        },
        {
          "output_type": "execute_result",
          "data": {
            "text/plain": [
              "11"
            ]
          },
          "metadata": {
            "tags": []
          },
          "execution_count": 9
        }
      ]
    },
    {
      "cell_type": "code",
      "metadata": {
        "id": "GyPLH63yE2Bx",
        "colab_type": "code",
        "outputId": "f37ae72b-a0be-4942-a814-c9e93b8c1541",
        "colab": {
          "base_uri": "https://localhost:8080/",
          "height": 51
        }
      },
      "source": [
        "print('Пропусков родословной:') \n",
        "len(data[(data['DiabetesPedigreeFunction'] == 0)])"
      ],
      "execution_count": 0,
      "outputs": [
        {
          "output_type": "stream",
          "text": [
            "Пропусков родословной:\n"
          ],
          "name": "stdout"
        },
        {
          "output_type": "execute_result",
          "data": {
            "text/plain": [
              "0"
            ]
          },
          "metadata": {
            "tags": []
          },
          "execution_count": 10
        }
      ]
    },
    {
      "cell_type": "code",
      "metadata": {
        "id": "EZIaTSuYFEWQ",
        "colab_type": "code",
        "outputId": "157aeeb2-b1a4-4187-adaa-bf0c031c5aa2",
        "colab": {
          "base_uri": "https://localhost:8080/",
          "height": 51
        }
      },
      "source": [
        "print('Пропусков возраста:') \n",
        "len(data[(data['Age'] == 0)])"
      ],
      "execution_count": 0,
      "outputs": [
        {
          "output_type": "stream",
          "text": [
            "Пропусков возраста:\n"
          ],
          "name": "stdout"
        },
        {
          "output_type": "execute_result",
          "data": {
            "text/plain": [
              "0"
            ]
          },
          "metadata": {
            "tags": []
          },
          "execution_count": 11
        }
      ]
    },
    {
      "cell_type": "code",
      "metadata": {
        "id": "7LJNhEQyBs_3",
        "colab_type": "code",
        "colab": {}
      },
      "source": [
        "#В строке с беременностями нули оправданы. Это не пропуск.\n",
        "#В строке с содержанием глюкозы - нет, нужно заменить на среднее значение, т.к. глюкоза в крови человека по-любому есть. Значит значения пропущены\n",
        "#В строке c давлением - то же самое, нулевого быть не может. 0 -значит пропущено.\n",
        "#Толщина кожной складки трицепса нулем тоже быть не может - пропущенное значение.\n",
        "#Инсулин в крови также есть у всех - нули = пропуски.\n",
        "#Индекс массы тела тоже не может быть нулем. - Это пропуски\n",
        "#Родословная составляющая диабета может быть нулем, может, совсем не подверджен генетически человек диабету. Но таких данных у нас нет.\n",
        "#Возраст тоже может быть нулем. Однако таких данных у нас нет.\n",
        "#Outcome - бинарный признак, он должен быть 0 или 1."
      ],
      "execution_count": 0,
      "outputs": []
    },
    {
      "cell_type": "code",
      "metadata": {
        "id": "k1G-nTeQFHso",
        "colab_type": "code",
        "colab": {}
      },
      "source": [
        "#Заменим все нули там, где они значат пропуски на среднее значение, чтобы не нарушать баланс выборки."
      ],
      "execution_count": 0,
      "outputs": []
    },
    {
      "cell_type": "code",
      "metadata": {
        "id": "YFxKXN3PFOEh",
        "colab_type": "code",
        "outputId": "e1b79876-42b6-42c8-d175-3fe626b28054",
        "colab": {
          "base_uri": "https://localhost:8080/",
          "height": 34
        }
      },
      "source": [
        "data.loc[data['Glucose'] == 0, 'Glucose'] = data['Glucose'].mean()\n",
        "len(data[(data['Glucose'] == 0)])"
      ],
      "execution_count": 9,
      "outputs": [
        {
          "output_type": "execute_result",
          "data": {
            "text/plain": [
              "0"
            ]
          },
          "metadata": {
            "tags": []
          },
          "execution_count": 9
        }
      ]
    },
    {
      "cell_type": "code",
      "metadata": {
        "id": "e_2sFGyIGzav",
        "colab_type": "code",
        "outputId": "9b79af7d-798a-4d80-ebda-b38b3bf3a768",
        "colab": {
          "base_uri": "https://localhost:8080/",
          "height": 34
        }
      },
      "source": [
        "data.loc[data['BloodPressure'] == 0, 'BloodPressure'] = data['BloodPressure'].mean()\n",
        "len(data[(data['BloodPressure'] == 0)])"
      ],
      "execution_count": 10,
      "outputs": [
        {
          "output_type": "execute_result",
          "data": {
            "text/plain": [
              "0"
            ]
          },
          "metadata": {
            "tags": []
          },
          "execution_count": 10
        }
      ]
    },
    {
      "cell_type": "code",
      "metadata": {
        "id": "S6-Qt3wrG5AE",
        "colab_type": "code",
        "outputId": "f8bd5c5e-16e5-44d8-d0f9-1ef80c78a93f",
        "colab": {
          "base_uri": "https://localhost:8080/",
          "height": 34
        }
      },
      "source": [
        "data.loc[data['SkinThickness'] == 0, 'SkinThickness'] = data['SkinThickness'].mean()\n",
        "len(data[(data['SkinThickness'] == 0)])"
      ],
      "execution_count": 11,
      "outputs": [
        {
          "output_type": "execute_result",
          "data": {
            "text/plain": [
              "0"
            ]
          },
          "metadata": {
            "tags": []
          },
          "execution_count": 11
        }
      ]
    },
    {
      "cell_type": "code",
      "metadata": {
        "id": "CXmIEQdcHA4_",
        "colab_type": "code",
        "outputId": "e16b99ac-e1fa-4ca5-c686-525e84678fcf",
        "colab": {
          "base_uri": "https://localhost:8080/",
          "height": 34
        }
      },
      "source": [
        "data.loc[data['Insulin'] == 0, 'Insulin'] = data['Insulin'].mean()\n",
        "len(data[(data['Insulin'] == 0)])"
      ],
      "execution_count": 12,
      "outputs": [
        {
          "output_type": "execute_result",
          "data": {
            "text/plain": [
              "0"
            ]
          },
          "metadata": {
            "tags": []
          },
          "execution_count": 12
        }
      ]
    },
    {
      "cell_type": "code",
      "metadata": {
        "id": "cUHjIDToHHi-",
        "colab_type": "code",
        "outputId": "113cf9bd-9e4d-4bfa-efca-25329e40e311",
        "colab": {
          "base_uri": "https://localhost:8080/",
          "height": 34
        }
      },
      "source": [
        "data.loc[data['BMI'] == 0, 'BMI'] = data['BMI'].mean()\n",
        "len(data[(data['BMI'] == 0)])"
      ],
      "execution_count": 13,
      "outputs": [
        {
          "output_type": "execute_result",
          "data": {
            "text/plain": [
              "0"
            ]
          },
          "metadata": {
            "tags": []
          },
          "execution_count": 13
        }
      ]
    },
    {
      "cell_type": "code",
      "metadata": {
        "id": "MxDxQuKsHNJE",
        "colab_type": "code",
        "outputId": "9aefdfc3-0072-4628-9916-d20c6a079bab",
        "colab": {
          "base_uri": "https://localhost:8080/",
          "height": 204
        }
      },
      "source": [
        "#проверим, жива ли таблица\n",
        "data.tail()"
      ],
      "execution_count": 14,
      "outputs": [
        {
          "output_type": "execute_result",
          "data": {
            "text/html": [
              "<div>\n",
              "<style scoped>\n",
              "    .dataframe tbody tr th:only-of-type {\n",
              "        vertical-align: middle;\n",
              "    }\n",
              "\n",
              "    .dataframe tbody tr th {\n",
              "        vertical-align: top;\n",
              "    }\n",
              "\n",
              "    .dataframe thead th {\n",
              "        text-align: right;\n",
              "    }\n",
              "</style>\n",
              "<table border=\"1\" class=\"dataframe\">\n",
              "  <thead>\n",
              "    <tr style=\"text-align: right;\">\n",
              "      <th></th>\n",
              "      <th>Pregnancies</th>\n",
              "      <th>Glucose</th>\n",
              "      <th>BloodPressure</th>\n",
              "      <th>SkinThickness</th>\n",
              "      <th>Insulin</th>\n",
              "      <th>BMI</th>\n",
              "      <th>DiabetesPedigreeFunction</th>\n",
              "      <th>Age</th>\n",
              "      <th>Outcome</th>\n",
              "    </tr>\n",
              "  </thead>\n",
              "  <tbody>\n",
              "    <tr>\n",
              "      <th>763</th>\n",
              "      <td>10</td>\n",
              "      <td>101.0</td>\n",
              "      <td>76.0</td>\n",
              "      <td>48.000000</td>\n",
              "      <td>180.000000</td>\n",
              "      <td>32.9</td>\n",
              "      <td>0.171</td>\n",
              "      <td>63</td>\n",
              "      <td>0</td>\n",
              "    </tr>\n",
              "    <tr>\n",
              "      <th>764</th>\n",
              "      <td>2</td>\n",
              "      <td>122.0</td>\n",
              "      <td>70.0</td>\n",
              "      <td>27.000000</td>\n",
              "      <td>79.799479</td>\n",
              "      <td>36.8</td>\n",
              "      <td>0.340</td>\n",
              "      <td>27</td>\n",
              "      <td>0</td>\n",
              "    </tr>\n",
              "    <tr>\n",
              "      <th>765</th>\n",
              "      <td>5</td>\n",
              "      <td>121.0</td>\n",
              "      <td>72.0</td>\n",
              "      <td>23.000000</td>\n",
              "      <td>112.000000</td>\n",
              "      <td>26.2</td>\n",
              "      <td>0.245</td>\n",
              "      <td>30</td>\n",
              "      <td>0</td>\n",
              "    </tr>\n",
              "    <tr>\n",
              "      <th>766</th>\n",
              "      <td>1</td>\n",
              "      <td>126.0</td>\n",
              "      <td>60.0</td>\n",
              "      <td>20.536458</td>\n",
              "      <td>79.799479</td>\n",
              "      <td>30.1</td>\n",
              "      <td>0.349</td>\n",
              "      <td>47</td>\n",
              "      <td>1</td>\n",
              "    </tr>\n",
              "    <tr>\n",
              "      <th>767</th>\n",
              "      <td>1</td>\n",
              "      <td>93.0</td>\n",
              "      <td>70.0</td>\n",
              "      <td>31.000000</td>\n",
              "      <td>79.799479</td>\n",
              "      <td>30.4</td>\n",
              "      <td>0.315</td>\n",
              "      <td>23</td>\n",
              "      <td>0</td>\n",
              "    </tr>\n",
              "  </tbody>\n",
              "</table>\n",
              "</div>"
            ],
            "text/plain": [
              "     Pregnancies  Glucose  ...  Age  Outcome\n",
              "763           10    101.0  ...   63        0\n",
              "764            2    122.0  ...   27        0\n",
              "765            5    121.0  ...   30        0\n",
              "766            1    126.0  ...   47        1\n",
              "767            1     93.0  ...   23        0\n",
              "\n",
              "[5 rows x 9 columns]"
            ]
          },
          "metadata": {
            "tags": []
          },
          "execution_count": 14
        }
      ]
    },
    {
      "cell_type": "markdown",
      "metadata": {
        "id": "jnlPR-kj-SZu",
        "colab_type": "text"
      },
      "source": [
        "**2. (1 балл)** Визуализируйте распределение признаков по отдельности для больных диабетом и здоровых. Ваши графики должны быть примерно такими:\n",
        "\n",
        "![Image](https://d.radikal.ru/d03/2005/f8/0ffb9443cbcf.png)"
      ]
    },
    {
      "cell_type": "code",
      "metadata": {
        "id": "AYbSXgHMHcNH",
        "colab_type": "code",
        "outputId": "1e18d16f-d2f1-4022-e2cd-00d11416f7fe",
        "colab": {
          "base_uri": "https://localhost:8080/",
          "height": 204
        }
      },
      "source": [
        "#создаем два массива с больными диабетом и здоровыми\n",
        "data_sick = data[(data['Outcome'] == 1)]\n",
        "data_well = data[(data['Outcome'] == 0)]\n",
        "data_sick.head() #проверили"
      ],
      "execution_count": 15,
      "outputs": [
        {
          "output_type": "execute_result",
          "data": {
            "text/html": [
              "<div>\n",
              "<style scoped>\n",
              "    .dataframe tbody tr th:only-of-type {\n",
              "        vertical-align: middle;\n",
              "    }\n",
              "\n",
              "    .dataframe tbody tr th {\n",
              "        vertical-align: top;\n",
              "    }\n",
              "\n",
              "    .dataframe thead th {\n",
              "        text-align: right;\n",
              "    }\n",
              "</style>\n",
              "<table border=\"1\" class=\"dataframe\">\n",
              "  <thead>\n",
              "    <tr style=\"text-align: right;\">\n",
              "      <th></th>\n",
              "      <th>Pregnancies</th>\n",
              "      <th>Glucose</th>\n",
              "      <th>BloodPressure</th>\n",
              "      <th>SkinThickness</th>\n",
              "      <th>Insulin</th>\n",
              "      <th>BMI</th>\n",
              "      <th>DiabetesPedigreeFunction</th>\n",
              "      <th>Age</th>\n",
              "      <th>Outcome</th>\n",
              "    </tr>\n",
              "  </thead>\n",
              "  <tbody>\n",
              "    <tr>\n",
              "      <th>0</th>\n",
              "      <td>6</td>\n",
              "      <td>148.0</td>\n",
              "      <td>72.0</td>\n",
              "      <td>35.000000</td>\n",
              "      <td>79.799479</td>\n",
              "      <td>33.6</td>\n",
              "      <td>0.627</td>\n",
              "      <td>50</td>\n",
              "      <td>1</td>\n",
              "    </tr>\n",
              "    <tr>\n",
              "      <th>2</th>\n",
              "      <td>8</td>\n",
              "      <td>183.0</td>\n",
              "      <td>64.0</td>\n",
              "      <td>20.536458</td>\n",
              "      <td>79.799479</td>\n",
              "      <td>23.3</td>\n",
              "      <td>0.672</td>\n",
              "      <td>32</td>\n",
              "      <td>1</td>\n",
              "    </tr>\n",
              "    <tr>\n",
              "      <th>4</th>\n",
              "      <td>0</td>\n",
              "      <td>137.0</td>\n",
              "      <td>40.0</td>\n",
              "      <td>35.000000</td>\n",
              "      <td>168.000000</td>\n",
              "      <td>43.1</td>\n",
              "      <td>2.288</td>\n",
              "      <td>33</td>\n",
              "      <td>1</td>\n",
              "    </tr>\n",
              "    <tr>\n",
              "      <th>6</th>\n",
              "      <td>3</td>\n",
              "      <td>78.0</td>\n",
              "      <td>50.0</td>\n",
              "      <td>32.000000</td>\n",
              "      <td>88.000000</td>\n",
              "      <td>31.0</td>\n",
              "      <td>0.248</td>\n",
              "      <td>26</td>\n",
              "      <td>1</td>\n",
              "    </tr>\n",
              "    <tr>\n",
              "      <th>8</th>\n",
              "      <td>2</td>\n",
              "      <td>197.0</td>\n",
              "      <td>70.0</td>\n",
              "      <td>45.000000</td>\n",
              "      <td>543.000000</td>\n",
              "      <td>30.5</td>\n",
              "      <td>0.158</td>\n",
              "      <td>53</td>\n",
              "      <td>1</td>\n",
              "    </tr>\n",
              "  </tbody>\n",
              "</table>\n",
              "</div>"
            ],
            "text/plain": [
              "   Pregnancies  Glucose  BloodPressure  ...  DiabetesPedigreeFunction  Age  Outcome\n",
              "0            6    148.0           72.0  ...                     0.627   50        1\n",
              "2            8    183.0           64.0  ...                     0.672   32        1\n",
              "4            0    137.0           40.0  ...                     2.288   33        1\n",
              "6            3     78.0           50.0  ...                     0.248   26        1\n",
              "8            2    197.0           70.0  ...                     0.158   53        1\n",
              "\n",
              "[5 rows x 9 columns]"
            ]
          },
          "metadata": {
            "tags": []
          },
          "execution_count": 15
        }
      ]
    },
    {
      "cell_type": "code",
      "metadata": {
        "id": "XbB2El6-H4eH",
        "colab_type": "code",
        "outputId": "7490b11d-38d0-4e96-f179-aa78358a524b",
        "colab": {
          "base_uri": "https://localhost:8080/",
          "height": 875
        }
      },
      "source": [
        "import matplotlib.pyplot as plt\n",
        "%matplotlib inline\n",
        "featname = ['Pregnancies', 'Glucose', 'BloodPressure', 'SkinThickness', 'Insulin', 'BMI', 'DiabetesPedigreeFunction', 'Age', 'Outcome']\n",
        "plt.style.use('seaborn-whitegrid')\n",
        "plt.figure(figsize=(15, 15))\n",
        "\n",
        "def nevmeste(r):\n",
        "    if featname[r] == 'Pregnancies':\n",
        "        return 'bar'\n",
        "    else:\n",
        "        return 'stepfilled'\n",
        "#Это я подгоняю под вид как на примере.\n",
        "\n",
        "for i, s in enumerate(featname):\n",
        "    key = featname[i]\n",
        "    plt.subplot(3, 3, i+1)\n",
        "    plt.hist(data_sick[key], rwidth=0.5, histtype=nevmeste(i), bins=20, label='Have DIABET', color='red', alpha=0.5)\n",
        "    plt.hist(data_well[key], rwidth=0.5, histtype=nevmeste(i), bins=20, label='No DIABET', color='green', alpha=0.5)\n",
        "    plt.legend()\n",
        "    plt.title(featname[i])"
      ],
      "execution_count": 41,
      "outputs": [
        {
          "output_type": "display_data",
          "data": {
            "image/png": "[encoded data removed]",
            "text/plain": [
              "<Figure size 1080x1080 with 9 Axes>"
            ]
          },
          "metadata": {
            "tags": []
          }
        }
      ]
    },
    {
      "cell_type": "code",
      "metadata": {
        "id": "JEiCLlwqG8yE",
        "colab_type": "code",
        "colab": {}
      },
      "source": [
        "#Визуализировали. Графики похожи, но немного отличаются, т.к. мы исправили нулевые значения, там где они не нужны, а на примере - нет."
      ],
      "execution_count": 0,
      "outputs": []
    },
    {
      "cell_type": "markdown",
      "metadata": {
        "id": "_ZTwo1G3-SZw",
        "colab_type": "text"
      },
      "source": [
        "**3. (2 балла)** Разбейте данные на обучающую и тестовую часть в соотношении 70:30. Обучите *BaggingClassifier* на деревьях (поставьте параметр *base_estimator = DecisionTreeClassifier()*) и *RandomForest*. Возьмите количество базовых алгоритмов, равное 10. Посчитайте accuracy, recall и precision. Есть ли какая-то разница между моделями и их результатами? Как вы думаете, почему получились такие результаты?\n",
        "\n",
        "*tip: создайте отдельную функцию для вывода метрик качества;*"
      ]
    },
    {
      "cell_type": "code",
      "metadata": {
        "ExecuteTime": {
          "end_time": "2020-05-17T14:10:20.171445Z",
          "start_time": "2020-05-17T14:10:20.156474Z"
        },
        "id": "04nOfmZw-SZz",
        "colab_type": "code",
        "colab": {}
      },
      "source": [
        "from sklearn.model_selection import train_test_split\n",
        "from sklearn.metrics import accuracy_score, precision_score, recall_score"
      ],
      "execution_count": 0,
      "outputs": []
    },
    {
      "cell_type": "code",
      "metadata": {
        "id": "KABWjzCdddm7",
        "colab_type": "code",
        "colab": {}
      },
      "source": [
        "#разбиваем выборку на трейн и тест\n",
        "X, y = data.values[:, :-1], data.values[:, -1]\n",
        "X_train, X_test, y_train, y_test = train_test_split(X, y, test_size=0.3)"
      ],
      "execution_count": 0,
      "outputs": []
    },
    {
      "cell_type": "code",
      "metadata": {
        "id": "gxcrjVA_hVjF",
        "colab_type": "code",
        "colab": {}
      },
      "source": [
        "#функция метрики качества и сразу в ней предсказание\n",
        "def Quality(mode): #mode - какую модель выбираем\n",
        "    print('Accuracy TRAIN = ', accuracy_score(y_train, mode.predict(X_train)), 'Accuracy TEST = ', accuracy_score(y_test, mode.predict(X_test)))\n",
        "    print('Precision TRAIN = ', precision_score(y_train, mode.predict(X_train)), 'Precision TEST = ', precision_score(y_test, mode.predict(X_test)))\n",
        "    print('Recall TRAIN = ', recall_score(y_train, mode.predict(X_train)), 'Recall TEST = ', recall_score(y_test, mode.predict(X_test)))"
      ],
      "execution_count": 0,
      "outputs": []
    },
    {
      "cell_type": "code",
      "metadata": {
        "id": "dr0BhB7Pg7V1",
        "colab_type": "code",
        "colab": {}
      },
      "source": [
        "from sklearn.ensemble import BaggingClassifier"
      ],
      "execution_count": 0,
      "outputs": []
    },
    {
      "cell_type": "code",
      "metadata": {
        "id": "DRbtLcAdfBoh",
        "colab_type": "code",
        "colab": {
          "base_uri": "https://localhost:8080/",
          "height": 85
        },
        "outputId": "897b7acc-e960-46e1-db4a-8c5d2874fa09"
      },
      "source": [
        "#сначала обучим решающее дерево, написано, что там base_estimator по умолчанию стоит DecisionTreeClassifier(), поэтому тут ниче не прописываю.\n",
        "clf = BaggingClassifier(n_estimators = 10, random_state = 11) #рандом стейт, чтобы при запуске при проверке выдавало те же результаты\n",
        "clf.fit(X_train, y_train)"
      ],
      "execution_count": 58,
      "outputs": [
        {
          "output_type": "execute_result",
          "data": {
            "text/plain": [
              "BaggingClassifier(base_estimator=None, bootstrap=True, bootstrap_features=False,\n",
              "                  max_features=1.0, max_samples=1.0, n_estimators=10,\n",
              "                  n_jobs=None, oob_score=False, random_state=11, verbose=0,\n",
              "                  warm_start=False)"
            ]
          },
          "metadata": {
            "tags": []
          },
          "execution_count": 58
        }
      ]
    },
    {
      "cell_type": "code",
      "metadata": {
        "id": "lBdWrOAlqULD",
        "colab_type": "code",
        "outputId": "9fa56659-f96a-4e0f-e459-8e049527dd47",
        "colab": {
          "base_uri": "https://localhost:8080/",
          "height": 68
        }
      },
      "source": [
        "Quality(clf)"
      ],
      "execution_count": 59,
      "outputs": [
        {
          "output_type": "stream",
          "text": [
            "Accuracy TRAIN =  0.9832402234636871 Accuracy TEST =  0.7229437229437229\n",
            "Precision TRAIN =  0.9943181818181818 Precision TEST =  0.647887323943662\n",
            "Recall TRAIN =  0.9562841530054644 Recall TEST =  0.5411764705882353\n"
          ],
          "name": "stdout"
        }
      ]
    },
    {
      "cell_type": "code",
      "metadata": {
        "id": "LO-V0cFIKGRM",
        "colab_type": "code",
        "colab": {}
      },
      "source": [
        "#Запомним результаты бэггинга РЕШАЮЩИХ ДЕРЕВЬЕВ: экураси на тесте: 0.72, пресижн 0,65, рекол 0,54\n",
        "#Результаты чего-то не очень, особенно реколл..."
      ],
      "execution_count": 0,
      "outputs": []
    },
    {
      "cell_type": "code",
      "metadata": {
        "id": "naX4AQONqjml",
        "colab_type": "code",
        "outputId": "82b45b60-ee20-4f2c-d95c-974aa3fff86b",
        "colab": {
          "base_uri": "https://localhost:8080/",
          "height": 68
        }
      },
      "source": [
        "from sklearn.ensemble import RandomForestClassifier\n",
        "\n",
        "#теперь учим лес\n",
        "les_clf = RandomForestClassifier(n_estimators = 10, random_state = 11)\n",
        "les_clf.fit(X_train, y_train)\n",
        "Quality(les_clf)"
      ],
      "execution_count": 62,
      "outputs": [
        {
          "output_type": "stream",
          "text": [
            "Accuracy TRAIN =  0.9795158286778398 Accuracy TEST =  0.7748917748917749\n",
            "Precision TRAIN =  0.9942528735632183 Precision TEST =  0.7538461538461538\n",
            "Recall TRAIN =  0.9453551912568307 Recall TEST =  0.5764705882352941\n"
          ],
          "name": "stdout"
        }
      ]
    },
    {
      "cell_type": "code",
      "metadata": {
        "id": "ADhjk30qt9-g",
        "colab_type": "code",
        "colab": {}
      },
      "source": [
        "#Результаты СЛУЧ ЛЕСА: экураси на тесте: 0.77, пресижн 0,75, рекол 0,58\n",
        "#Да, между этими моделями разница есть, не прямо чтобы очень значительно, но случайный лес решает задачу лучше.\n",
        "#А существует эта разница потому, что в случайном лесе у нас выбираются случайные признаки, и из них выбирается\n",
        "#наиболее значимый для последующего распределения, в то время как в бэггинге используются все признаки (могут оказаться и не значимые)"
      ],
      "execution_count": 0,
      "outputs": []
    },
    {
      "cell_type": "markdown",
      "metadata": {
        "id": "iMjOD57b-SZ7",
        "colab_type": "text"
      },
      "source": [
        "**4. (2 балл)** Для случайного леса проанализируйте значение ROC-AUC на этих же данных в зависимости от изменения параметров:\n",
        "* *n_estimators* (можно перебрать около 10 значений из отрезка от 10 до 1500)\n",
        "* *min_samples_leaf* (сетку значений можете выбрать на ваше усмотрение)\n",
        "\n",
        "Постройте соответствующие графики зависимости ROC-AUC от этих параметров. Какие выводы можете сделать?"
      ]
    },
    {
      "cell_type": "code",
      "metadata": {
        "id": "8DbJ6kIS-SZ8",
        "colab_type": "code",
        "colab": {}
      },
      "source": [
        "n = [10, 20, 30, 50, 100, 120, 150, 300, 700, 1500] #10 разных кол-в estimators, я выбрал такие, т.к. с ростом estimators сначала у нас растет качество\n",
        "#до какого-то момента, но потом оно перестает расти, поэтому чтобы не переобучится - слишком большие брать не будем.\n",
        "m = [1, 2, 3, 4, 5, 6, 7, 10, 25, 50] #10 минимальных количеств объектов в листе. Я выбрал такие, потому что по умолчанию у нас 1, но мы можем объединять\n",
        "#их по-другому, вдруг качество улучшится? Проверим."
      ],
      "execution_count": 0,
      "outputs": []
    },
    {
      "cell_type": "code",
      "metadata": {
        "id": "xpzA-2VXwODG",
        "colab_type": "code",
        "colab": {}
      },
      "source": [
        "from sklearn.metrics import roc_curve\n",
        "from sklearn.metrics import auc\n",
        "from sklearn.metrics import roc_auc_score"
      ],
      "execution_count": 0,
      "outputs": []
    },
    {
      "cell_type": "code",
      "metadata": {
        "id": "iuTyDcrHvxMC",
        "colab_type": "code",
        "outputId": "ded6dfdf-0d86-4210-9b98-bbf799340f53",
        "colab": {
          "base_uri": "https://localhost:8080/",
          "height": 187
        }
      },
      "source": [
        "roc_znach = []\n",
        "for i in n:\n",
        "    les_clf = RandomForestClassifier(n_estimators = i, random_state=11)\n",
        "    les_clf.fit(X_train, y_train)\n",
        "    les_preds = les_clf.predict(X_test)\n",
        "    s = roc_auc_score(y_test, les_preds)\n",
        "    q = roc_auc_score(y_train, les_clf.predict(X_train))\n",
        "    roc_znach.append(s)\n",
        "    print('n_estimators = ', i, 'ROC-AUC на TRAIN = ', q, 'ROC-AUC на TEST = ', s, end='\\n')"
      ],
      "execution_count": 66,
      "outputs": [
        {
          "output_type": "stream",
          "text": [
            "n_estimators =  10 ROC-AUC на TRAIN =  0.9712651662498841 ROC-AUC на TEST =  0.7334407735697018\n",
            "n_estimators =  20 ROC-AUC на TRAIN =  0.9918032786885246 ROC-AUC на TEST =  0.7275584206285254\n",
            "n_estimators =  30 ROC-AUC на TRAIN =  1.0 ROC-AUC на TEST =  0.7501208702659146\n",
            "n_estimators =  50 ROC-AUC на TRAIN =  1.0 ROC-AUC на TEST =  0.7476631748589847\n",
            "n_estimators =  100 ROC-AUC на TRAIN =  1.0 ROC-AUC на TEST =  0.7442385173247381\n",
            "n_estimators =  120 ROC-AUC на TRAIN =  1.0 ROC-AUC на TEST =  0.746696212731668\n",
            "n_estimators =  150 ROC-AUC на TRAIN =  1.0 ROC-AUC на TEST =  0.7618855761482675\n",
            "n_estimators =  300 ROC-AUC на TRAIN =  1.0 ROC-AUC на TEST =  0.7668009669621272\n",
            "n_estimators =  700 ROC-AUC на TRAIN =  1.0 ROC-AUC на TEST =  0.7633763094278806\n",
            "n_estimators =  1500 ROC-AUC на TRAIN =  1.0 ROC-AUC на TEST =  0.7481869460112812\n"
          ],
          "name": "stdout"
        }
      ]
    },
    {
      "cell_type": "code",
      "metadata": {
        "id": "x3s3ws7wzTHu",
        "colab_type": "code",
        "colab": {}
      },
      "source": [
        "a = np.array(n)\n",
        "b = np.array(roc_znach)"
      ],
      "execution_count": 0,
      "outputs": []
    },
    {
      "cell_type": "code",
      "metadata": {
        "id": "fGDOjxLJyi-a",
        "colab_type": "code",
        "outputId": "dc572dde-5aee-4293-a2c2-0a1ae088c019",
        "colab": {
          "base_uri": "https://localhost:8080/",
          "height": 291
        }
      },
      "source": [
        "plt.plot(a, b)\n",
        "plt.title('Dependence of ROC-AUC on N_ESTIMATORS')\n",
        "plt.xlabel('N_ESTIMATORS')\n",
        "plt.ylabel('ROC-AUC')\n",
        "plt.show()"
      ],
      "execution_count": 68,
      "outputs": [
        {
          "output_type": "display_data",
          "data": {
            "image/png": "[encoded data removed]",
            "text/plain": [
              "<Figure size 432x288 with 1 Axes>"
            ]
          },
          "metadata": {
            "tags": []
          }
        }
      ]
    },
    {
      "cell_type": "code",
      "metadata": {
        "id": "j1coZh4KOKIo",
        "colab_type": "code",
        "colab": {}
      },
      "source": [
        "#Как мы видим, лучшее значение ROC-AUC выдает на числе n_estimators = 300. Далее уже снижается качество на тестовой выборке. Поэтому выберем оптимум = 300.\n",
        "#Вывод такой: с ростом числа эстиматоров качество растет до определенного момента, а дальше снижается (ну или выходит на ассимптоту)"
      ],
      "execution_count": 0,
      "outputs": []
    },
    {
      "cell_type": "code",
      "metadata": {
        "id": "k_V3wfWKz_XE",
        "colab_type": "code",
        "outputId": "c292c052-f254-4fb3-b400-f24946447bcc",
        "colab": {
          "base_uri": "https://localhost:8080/",
          "height": 187
        }
      },
      "source": [
        "roc_znach2 = []\n",
        "for i in m:\n",
        "    les_clf = RandomForestClassifier(min_samples_leaf=i, random_state=11)\n",
        "    les_clf.fit(X_train, y_train)\n",
        "    les_preds = les_clf.predict(X_test)\n",
        "    s = roc_auc_score(y_test, les_preds)\n",
        "    q = roc_auc_score(y_train, les_clf.predict(X_train))\n",
        "    roc_znach2.append(s)\n",
        "    print('min_samples_leaf = ', i, 'ROC-AUC на TRAIN = ', q, 'ROC-AUC на TEST = ', s, end='\\n')"
      ],
      "execution_count": 104,
      "outputs": [
        {
          "output_type": "stream",
          "text": [
            "min_samples_leaf =  1 ROC-AUC на TRAIN =  1.0 ROC-AUC на TEST =  0.7442385173247381\n",
            "min_samples_leaf =  2 ROC-AUC на TRAIN =  0.9671204964341948 ROC-AUC на TEST =  0.7364222401289283\n",
            "min_samples_leaf =  3 ROC-AUC на TRAIN =  0.9189821246642587 ROC-AUC на TEST =  0.7398468976631749\n",
            "min_samples_leaf =  4 ROC-AUC на TRAIN =  0.8832777623413911 ROC-AUC на TEST =  0.7408138597904916\n",
            "min_samples_leaf =  5 ROC-AUC на TRAIN =  0.85718255070853 ROC-AUC на TEST =  0.7163174858984689\n",
            "min_samples_leaf =  6 ROC-AUC на TRAIN =  0.8393766787070484 ROC-AUC на TEST =  0.7290491539081387\n",
            "min_samples_leaf =  7 ROC-AUC на TRAIN =  0.8365518199499862 ROC-AUC на TEST =  0.7197421434327156\n",
            "min_samples_leaf =  10 ROC-AUC на TRAIN =  0.8117764193757524 ROC-AUC на TEST =  0.7231668009669622\n",
            "min_samples_leaf =  25 ROC-AUC на TRAIN =  0.7446049828656108 ROC-AUC на TEST =  0.6996373892022563\n",
            "min_samples_leaf =  50 ROC-AUC на TRAIN =  0.6765768268963601 ROC-AUC на TEST =  0.698146655922643\n"
          ],
          "name": "stdout"
        }
      ]
    },
    {
      "cell_type": "code",
      "metadata": {
        "id": "y0y4KxZY0Qxe",
        "colab_type": "code",
        "colab": {}
      },
      "source": [
        "c = np.array(m)\n",
        "d = np.array(roc_znach2)"
      ],
      "execution_count": 0,
      "outputs": []
    },
    {
      "cell_type": "code",
      "metadata": {
        "id": "xGFng6uc0W1f",
        "colab_type": "code",
        "outputId": "9b53a2c5-1d8e-4849-ad17-1d930d1ec4ae",
        "colab": {
          "base_uri": "https://localhost:8080/",
          "height": 291
        }
      },
      "source": [
        "plt.plot(c, d)\n",
        "plt.title('Dependence of ROC-AUC on MIN_SAMPLES_LEAF')\n",
        "plt.xlabel('MIN_SAMPLES_LEAF')\n",
        "plt.ylabel('ROC-AUC')\n",
        "plt.show()"
      ],
      "execution_count": 106,
      "outputs": [
        {
          "output_type": "display_data",
          "data": {
            "image/png": "[encoded data removed]",
            "text/plain": [
              "<Figure size 432x288 with 1 Axes>"
            ]
          },
          "metadata": {
            "tags": []
          }
        }
      ]
    },
    {
      "cell_type": "code",
      "metadata": {
        "id": "NvjoNsgf0gsQ",
        "colab_type": "code",
        "colab": {}
      },
      "source": [
        "#C ростом минимального числа элементов в листе качество не растет, причем на трейне тоже. Поэтому выбираем судя по нашему графику либо 1, либо 5.\n",
        "#Думаю, что лучше 4 - не особо убавляется качество, однако раз меньше мин числа элементов в листе - мы не будем сильно переобучаться и грузить алгоритм.\n",
        "#Вывод такой: на начальных значениях мин кол-ва элементов в листе мы еще можем выбирать, но с дальнейшим ростом мин числа элементов в листе,\n",
        "#качество не вырастет - оно будет падать, качество алгоритма снизится."
      ],
      "execution_count": 0,
      "outputs": []
    },
    {
      "cell_type": "markdown",
      "metadata": {
        "id": "xRbeWdHS-SaE",
        "colab_type": "text"
      },
      "source": [
        "**5. (1 балл)**. Посмотрите, оказались ли какие-то признаки более важными, чем остальные? Воспользуйтесь соответствующим аттрибутом случайного леса в библиотеке sklearn, чтобы построить barplot."
      ]
    },
    {
      "cell_type": "code",
      "metadata": {
        "id": "imN142B0-SaF",
        "colab_type": "code",
        "outputId": "0f44c0f3-bdf4-4836-a844-cf1d2c2fd7c8",
        "colab": {
          "base_uri": "https://localhost:8080/",
          "height": 297
        }
      },
      "source": [
        "pd.DataFrame({\n",
        "    'feature': data.columns[:-1],\n",
        "    'importance': les_clf.feature_importances_\n",
        "}).sort_values(by='importance', ascending=False).reset_index(drop=True)"
      ],
      "execution_count": 0,
      "outputs": [
        {
          "output_type": "execute_result",
          "data": {
            "text/html": [
              "<div>\n",
              "<style scoped>\n",
              "    .dataframe tbody tr th:only-of-type {\n",
              "        vertical-align: middle;\n",
              "    }\n",
              "\n",
              "    .dataframe tbody tr th {\n",
              "        vertical-align: top;\n",
              "    }\n",
              "\n",
              "    .dataframe thead th {\n",
              "        text-align: right;\n",
              "    }\n",
              "</style>\n",
              "<table border=\"1\" class=\"dataframe\">\n",
              "  <thead>\n",
              "    <tr style=\"text-align: right;\">\n",
              "      <th></th>\n",
              "      <th>feature</th>\n",
              "      <th>importance</th>\n",
              "    </tr>\n",
              "  </thead>\n",
              "  <tbody>\n",
              "    <tr>\n",
              "      <th>0</th>\n",
              "      <td>Glucose</td>\n",
              "      <td>0.393227</td>\n",
              "    </tr>\n",
              "    <tr>\n",
              "      <th>1</th>\n",
              "      <td>BMI</td>\n",
              "      <td>0.171129</td>\n",
              "    </tr>\n",
              "    <tr>\n",
              "      <th>2</th>\n",
              "      <td>Age</td>\n",
              "      <td>0.129739</td>\n",
              "    </tr>\n",
              "    <tr>\n",
              "      <th>3</th>\n",
              "      <td>DiabetesPedigreeFunction</td>\n",
              "      <td>0.100695</td>\n",
              "    </tr>\n",
              "    <tr>\n",
              "      <th>4</th>\n",
              "      <td>Pregnancies</td>\n",
              "      <td>0.072192</td>\n",
              "    </tr>\n",
              "    <tr>\n",
              "      <th>5</th>\n",
              "      <td>BloodPressure</td>\n",
              "      <td>0.046535</td>\n",
              "    </tr>\n",
              "    <tr>\n",
              "      <th>6</th>\n",
              "      <td>Insulin</td>\n",
              "      <td>0.044576</td>\n",
              "    </tr>\n",
              "    <tr>\n",
              "      <th>7</th>\n",
              "      <td>SkinThickness</td>\n",
              "      <td>0.041906</td>\n",
              "    </tr>\n",
              "  </tbody>\n",
              "</table>\n",
              "</div>"
            ],
            "text/plain": [
              "                    feature  importance\n",
              "0                   Glucose    0.393227\n",
              "1                       BMI    0.171129\n",
              "2                       Age    0.129739\n",
              "3  DiabetesPedigreeFunction    0.100695\n",
              "4               Pregnancies    0.072192\n",
              "5             BloodPressure    0.046535\n",
              "6                   Insulin    0.044576\n",
              "7             SkinThickness    0.041906"
            ]
          },
          "metadata": {
            "tags": []
          },
          "execution_count": 80
        }
      ]
    },
    {
      "cell_type": "code",
      "metadata": {
        "id": "kdyBXR5tSLak",
        "colab_type": "code",
        "colab": {
          "base_uri": "https://localhost:8080/",
          "height": 457
        },
        "outputId": "4b4b5c7a-0c82-46b3-8b82-2cfe2d6d17e2"
      },
      "source": [
        "import seaborn as sns\n",
        "plt.figure(figsize=(12, 7))\n",
        "sns.barplot(data.columns[:-1], les_clf.feature_importances_)\n",
        "plt.title('Важность признаков')"
      ],
      "execution_count": 124,
      "outputs": [
        {
          "output_type": "execute_result",
          "data": {
            "text/plain": [
              "Text(0.5, 1.0, 'Важность признаков')"
            ]
          },
          "metadata": {
            "tags": []
          },
          "execution_count": 124
        },
        {
          "output_type": "display_data",
          "data": {
            "image/png": "[encoded data removed]",
            "text/plain": [
              "<Figure size 864x504 with 1 Axes>"
            ]
          },
          "metadata": {
            "tags": []
          }
        }
      ]
    },
    {
      "cell_type": "code",
      "metadata": {
        "id": "U7eQvTsQTiJ-",
        "colab_type": "code",
        "colab": {}
      },
      "source": [
        "#Как мы видим и из таблицы, и из графика - самый важный признак для нашей модели - глюкоза, она наиболее сильно влияет на решение модели,\n",
        "#Также для нашей модели важен возраст человека, индекс массы тела, беременность.\n",
        "#Все эти признаки превышают порог 10% важности для нашей модели при выборе ответа.\n",
        "#Мы можем сказать, что модель у нас адекватная - потому что с жизнью это кореллирует.\n",
        "#Остальные признаки не так важны для нашей модели, интересно, что наследственность в диабете оказалась среди них."
      ],
      "execution_count": 0,
      "outputs": []
    },
    {
      "cell_type": "markdown",
      "metadata": {
        "ExecuteTime": {
          "end_time": "2020-05-17T13:29:37.720316Z",
          "start_time": "2020-05-17T13:29:37.711698Z"
        },
        "id": "qOqexRHI-SaM",
        "colab_type": "text"
      },
      "source": [
        "**6. (2 балла)** Обучите HistGradientBoostingClassifier и GradientBoostingClassifier из sklearn. Опишите подробно, в чем заключается разница этих моделей. Подберите подходящее количество деревьев и проанализируйте метрики, с которыми мы работали выше."
      ]
    },
    {
      "cell_type": "code",
      "metadata": {
        "id": "mfiQiyjxiXJ_",
        "colab_type": "code",
        "colab": {}
      },
      "source": [
        "#Разница этих моделей заключается в том, что HistGradientBoostingClassifier строит модель быстрее, так ак он, в отличие от GradientBoostingClassifier \n",
        "#при построении вершины дерева вместо перебора по всем значениям признака производит перебор значений гистограммы этого признака. (из семинара 14)\n",
        "#Кроме того, в отличие от GradientBoostingClassifier, который строят дерево по уровням, HistGradientBoostingClassifier на каждом шаге \n",
        "#строит вершину, дающую наибольшее уменьшение функционала. "
      ],
      "execution_count": 0,
      "outputs": []
    },
    {
      "cell_type": "code",
      "metadata": {
        "id": "apoaMROf-SaN",
        "colab_type": "code",
        "outputId": "9d9a1b61-1989-42c4-b2c3-8d00fc521a74",
        "colab": {
          "base_uri": "https://localhost:8080/",
          "height": 187
        }
      },
      "source": [
        "from sklearn.ensemble import GradientBoostingClassifier\n",
        "roc_znach_3=[]\n",
        "for n_estimators in range(1, 500, 50):\n",
        "    rf = GradientBoostingClassifier(n_estimators=n_estimators, random_state = 11).fit(X_train, y_train)\n",
        "    roc_znach_3.append(roc_auc_score(y_test, rf.predict_proba(X_test)[:,1]))\n",
        "    print (n_estimators, 'ROC-AUC на TRAIN =',  roc_auc_score(y_train, rf.predict_proba(X_train)[:,1]), 'ROC-AUC на TEST =',  roc_auc_score(y_test, rf.predict_proba(X_test)[:,1]))"
      ],
      "execution_count": 133,
      "outputs": [
        {
          "output_type": "stream",
          "text": [
            "1 ROC-AUC на TRAIN = 0.8341977709857675 ROC-AUC на TEST = 0.7662771958098309\n",
            "51 ROC-AUC на TRAIN = 0.9557593158593436 ROC-AUC на TEST = 0.8590652699435939\n",
            "101 ROC-AUC на TRAIN = 0.9880985458923774 ROC-AUC на TEST = 0.853102336825141\n",
            "151 ROC-AUC на TRAIN = 0.9973758142693958 ROC-AUC на TEST = 0.8463336019339243\n",
            "201 ROC-AUC на TRAIN = 0.99924361705412 ROC-AUC на TEST = 0.8423045930701046\n",
            "251 ROC-AUC на TRAIN = 0.9999536908400481 ROC-AUC на TEST = 0.836986301369863\n",
            "301 ROC-AUC на TRAIN = 1.0 ROC-AUC на TEST = 0.8356164383561644\n",
            "351 ROC-AUC на TRAIN = 1.0 ROC-AUC на TEST = 0.8321514907332797\n",
            "401 ROC-AUC на TRAIN = 1.0 ROC-AUC на TEST = 0.8321514907332797\n",
            "451 ROC-AUC на TRAIN = 1.0 ROC-AUC на TEST = 0.8301369863013699\n"
          ],
          "name": "stdout"
        }
      ]
    },
    {
      "cell_type": "code",
      "metadata": {
        "id": "I078-dKzVVrA",
        "colab_type": "code",
        "colab": {
          "base_uri": "https://localhost:8080/",
          "height": 291
        },
        "outputId": "ca3e95f3-35a9-4c45-d4da-9a302b844a8f"
      },
      "source": [
        "a = [1,51,101,151,201,251,301,351,401,451]\n",
        "b = np.array(roc_znach_3)\n",
        "\n",
        "plt.plot(a, b)\n",
        "plt.title('Зависимость ROC-AUC от N_ESTIMATORS для Gradient Boosting Classifier')\n",
        "plt.xlabel('N_ESTIMATORS')\n",
        "plt.ylabel('ROC-AUC')\n",
        "plt.show()"
      ],
      "execution_count": 135,
      "outputs": [
        {
          "output_type": "display_data",
          "data": {
            "image/png": "[encoded data removed]",
            "text/plain": [
              "<Figure size 432x288 with 1 Axes>"
            ]
          },
          "metadata": {
            "tags": []
          }
        }
      ]
    },
    {
      "cell_type": "code",
      "metadata": {
        "id": "d8N--exRW4XQ",
        "colab_type": "code",
        "colab": {}
      },
      "source": [
        "#Проанализировав ROC-AUC понимаем, что в нашем случае оптимальное число деревьев - в районе не более 50-60.\n",
        "#Подберем более точно"
      ],
      "execution_count": 0,
      "outputs": []
    },
    {
      "cell_type": "code",
      "metadata": {
        "id": "OlVtifKXX2hC",
        "colab_type": "code",
        "colab": {
          "base_uri": "https://localhost:8080/",
          "height": 357
        },
        "outputId": "546fc803-72f4-418c-fc26-abd2e0684d18"
      },
      "source": [
        "for n_estimators in range(10, 70, 3):\n",
        "    rf = GradientBoostingClassifier(n_estimators=n_estimators, random_state = 11).fit(X_train, y_train)\n",
        "    roc_znach_3.append(roc_auc_score(y_test, rf.predict_proba(X_test)[:,1]))\n",
        "    print (n_estimators, 'ROC-AUC на TRAIN =',  roc_auc_score(y_train, rf.predict_proba(X_train)[:,1]), 'ROC-AUC на TEST =',  roc_auc_score(y_test, rf.predict_proba(X_test)[:,1]))"
      ],
      "execution_count": 137,
      "outputs": [
        {
          "output_type": "stream",
          "text": [
            "10 ROC-AUC на TRAIN = 0.8992003951714982 ROC-AUC на TEST = 0.8383964544721998\n",
            "13 ROC-AUC на TRAIN = 0.9028896915809947 ROC-AUC на TEST = 0.8474617244157937\n",
            "16 ROC-AUC на TRAIN = 0.9056605229847797 ROC-AUC на TEST = 0.8486704270749396\n",
            "19 ROC-AUC на TRAIN = 0.9091954555277701 ROC-AUC на TEST = 0.8514101531023368\n",
            "22 ROC-AUC на TRAIN = 0.9154317557346177 ROC-AUC на TEST = 0.8548751007252215\n",
            "25 ROC-AUC на TRAIN = 0.9205643542959464 ROC-AUC на TEST = 0.8543916196615633\n",
            "28 ROC-AUC на TRAIN = 0.9250949337779013 ROC-AUC на TEST = 0.8570910556003224\n",
            "31 ROC-AUC на TRAIN = 0.9292010126269643 ROC-AUC на TEST = 0.857856567284448\n",
            "34 ROC-AUC на TRAIN = 0.9325815813034485 ROC-AUC на TEST = 0.8586623690572119\n",
            "37 ROC-AUC на TRAIN = 0.9374594794850422 ROC-AUC на TEST = 0.8585817888799355\n",
            "40 ROC-AUC на TRAIN = 0.941611867494057 ROC-AUC на TEST = 0.8589846897663175\n",
            "43 ROC-AUC на TRAIN = 0.942970269519311 ROC-AUC на TEST = 0.8600322320709105\n",
            "46 ROC-AUC на TRAIN = 0.9482572319471457 ROC-AUC на TEST = 0.8599516518936342\n",
            "49 ROC-AUC на TRAIN = 0.9529653298755826 ROC-AUC на TEST = 0.8595487510072523\n",
            "52 ROC-AUC на TRAIN = 0.9564076440986694 ROC-AUC на TEST = 0.8593070104754231\n",
            "55 ROC-AUC на TRAIN = 0.9594640486554907 ROC-AUC на TEST = 0.8572925060435133\n",
            "58 ROC-AUC на TRAIN = 0.9627288444320954 ROC-AUC на TEST = 0.8579371474617243\n",
            "61 ROC-AUC на TRAIN = 0.9648127566299282 ROC-AUC на TEST = 0.8601933924254633\n",
            "64 ROC-AUC на TRAIN = 0.9675758698403877 ROC-AUC на TEST = 0.8608380338436745\n",
            "67 ROC-AUC на TRAIN = 0.9703081102775463 ROC-AUC на TEST = 0.8602739726027396\n"
          ],
          "name": "stdout"
        }
      ]
    },
    {
      "cell_type": "code",
      "metadata": {
        "id": "GGc50gwjX8e4",
        "colab_type": "code",
        "colab": {}
      },
      "source": [
        "#Ок. Самый высокий скор у нас на 43 деревьях. Далее он начинает переобучаться. Выберем это количество и проверим наши старые метрики качества."
      ],
      "execution_count": 0,
      "outputs": []
    },
    {
      "cell_type": "code",
      "metadata": {
        "id": "UDVEmRnDYKIp",
        "colab_type": "code",
        "colab": {
          "base_uri": "https://localhost:8080/",
          "height": 68
        },
        "outputId": "375e653a-c4be-49fb-9c59-806ecfd9b405"
      },
      "source": [
        "mode = GradientBoostingClassifier(n_estimators=43, random_state = 11).fit(X_train, y_train)\n",
        "print('Accuracy TRAIN = ', accuracy_score(y_train, mode.predict(X_train)), 'Accuracy TEST = ', accuracy_score(y_test, mode.predict(X_test)))\n",
        "print('Precision TRAIN = ', precision_score(y_train, mode.predict(X_train)), 'Precision TEST = ', precision_score(y_test, mode.predict(X_test)))\n",
        "print('Recall TRAIN = ', recall_score(y_train, mode.predict(X_train)), 'Recall TEST = ', recall_score(y_test, mode.predict(X_test)))"
      ],
      "execution_count": 139,
      "outputs": [
        {
          "output_type": "stream",
          "text": [
            "Accuracy TRAIN =  0.8696461824953445 Accuracy TEST =  0.7489177489177489\n",
            "Precision TRAIN =  0.869281045751634 Precision TEST =  0.68\n",
            "Recall TRAIN =  0.726775956284153 Recall TEST =  0.6\n"
          ],
          "name": "stdout"
        }
      ]
    },
    {
      "cell_type": "code",
      "metadata": {
        "id": "v5JHKGwDYcOl",
        "colab_type": "code",
        "colab": {}
      },
      "source": [
        "#Для того, чтобы проанализировать сравним с тем, что получили в случайном лесу: все показатели остались примерно на том же уровне, но немного упало\n",
        "#все, кроме реколла. (не сильно). Однако качество все еще остается средним. Не плохое, но и не идеальное."
      ],
      "execution_count": 0,
      "outputs": []
    },
    {
      "cell_type": "code",
      "metadata": {
        "id": "t6Ogjr7GZg5h",
        "colab_type": "code",
        "colab": {}
      },
      "source": [
        "#Теперь с HistGradientBoostingClassifier. Здесь число деревьев я так понял подбираем с помощью max_iter."
      ],
      "execution_count": 0,
      "outputs": []
    },
    {
      "cell_type": "code",
      "metadata": {
        "id": "oDnqbc8pADar",
        "colab_type": "code",
        "colab": {}
      },
      "source": [
        "from sklearn.experimental import enable_hist_gradient_boosting \n",
        "from sklearn.ensemble import HistGradientBoostingClassifier"
      ],
      "execution_count": 0,
      "outputs": []
    },
    {
      "cell_type": "code",
      "metadata": {
        "id": "BJJaaGTLAHNr",
        "colab_type": "code",
        "outputId": "8c2d1f2e-e4cd-4431-f2b8-99a173c32c42",
        "colab": {
          "base_uri": "https://localhost:8080/",
          "height": 187
        }
      },
      "source": [
        "roc_znach_4=[]\n",
        "for max_iter in range(10, 500, 50):\n",
        "    rf = HistGradientBoostingClassifier(max_iter = max_iter, random_state = 11).fit(X_train, y_train)\n",
        "    roc_znach_4.append(roc_auc_score(y_test, rf.predict_proba(X_test)[:,1]))\n",
        "    print (max_iter, 'ROC-AUC на TRAIN =',  roc_auc_score(y_train, rf.predict_proba(X_train)[:,1]), 'ROC-AUC на TEST=',  roc_auc_score(y_test, rf.predict_proba(X_test)[:,1]))"
      ],
      "execution_count": 144,
      "outputs": [
        {
          "output_type": "stream",
          "text": [
            "10 ROC-AUC на TRAIN = 0.9294634312000247 ROC-AUC на TEST= 0.8400080580177276\n",
            "60 ROC-AUC на TRAIN = 0.9995369084004816 ROC-AUC на TEST= 0.8452054794520548\n",
            "110 ROC-AUC на TRAIN = 1.0 ROC-AUC на TEST= 0.8387590652699436\n",
            "160 ROC-AUC на TRAIN = 1.0 ROC-AUC на TEST= 0.8326349717969379\n",
            "210 ROC-AUC на TRAIN = 1.0 ROC-AUC на TEST= 0.8291700241740532\n",
            "260 ROC-AUC на TRAIN = 1.0 ROC-AUC на TEST= 0.8282836422240129\n",
            "310 ROC-AUC на TRAIN = 1.0 ROC-AUC на TEST= 0.8236099919419824\n",
            "360 ROC-AUC на TRAIN = 1.0 ROC-AUC на TEST= 0.82232070910556\n",
            "410 ROC-AUC на TRAIN = 1.0 ROC-AUC на TEST= 0.8221595487510074\n",
            "460 ROC-AUC на TRAIN = 1.0 ROC-AUC на TEST= 0.820467365028203\n"
          ],
          "name": "stdout"
        }
      ]
    },
    {
      "cell_type": "code",
      "metadata": {
        "id": "6Xw4lReRat_o",
        "colab_type": "code",
        "colab": {
          "base_uri": "https://localhost:8080/",
          "height": 291
        },
        "outputId": "43d84a1a-9187-481b-edde-6860bcf41cf1"
      },
      "source": [
        "a = [10,60,110,160,210,260,310,360,410,460]\n",
        "b = np.array(roc_znach_4)\n",
        "\n",
        "plt.plot(a, b)\n",
        "plt.title('Зависимость ROC-AUC от MAX_ITER для HIST Gradient Boosting Classifier')\n",
        "plt.xlabel('N_ESTIMATORS')\n",
        "plt.ylabel('ROC-AUC')\n",
        "plt.show()"
      ],
      "execution_count": 145,
      "outputs": [
        {
          "output_type": "display_data",
          "data": {
            "image/png": "[encoded data removed]",
            "text/plain": [
              "<Figure size 432x288 with 1 Axes>"
            ]
          },
          "metadata": {
            "tags": []
          }
        }
      ]
    },
    {
      "cell_type": "code",
      "metadata": {
        "id": "QA6VGHb4aQZN",
        "colab_type": "code",
        "colab": {}
      },
      "source": [
        "#Как мы видим, идеальное количество находится где-то в районе 10-80. Подберем точнее."
      ],
      "execution_count": 0,
      "outputs": []
    },
    {
      "cell_type": "code",
      "metadata": {
        "id": "j1xKGuuhaWyS",
        "colab_type": "code",
        "colab": {
          "base_uri": "https://localhost:8080/",
          "height": 425
        },
        "outputId": "fb628651-dbec-412c-aa58-5353d1637355"
      },
      "source": [
        "roc_znach_5=[]\n",
        "aspis = []\n",
        "for max_iter in range(10, 80, 3):\n",
        "    rf = HistGradientBoostingClassifier(max_iter = max_iter, random_state = 11).fit(X_train, y_train) \n",
        "    aspis.append(max_iter)\n",
        "    roc_znach_5.append(roc_auc_score(y_test, rf.predict_proba(X_test)[:,1]))\n",
        "    print (max_iter, 'ROC-AUC на TRAIN =',  roc_auc_score(y_train, rf.predict_proba(X_train)[:,1]), 'ROC-AUC на TEST=',  roc_auc_score(y_test, rf.predict_proba(X_test)[:,1]))"
      ],
      "execution_count": 149,
      "outputs": [
        {
          "output_type": "stream",
          "text": [
            "10 ROC-AUC на TRAIN = 0.9294634312000247 ROC-AUC на TEST= 0.8400080580177276\n",
            "13 ROC-AUC на TRAIN = 0.9385554629372357 ROC-AUC на TEST= 0.8494359387590653\n",
            "16 ROC-AUC на TRAIN = 0.9480411225340372 ROC-AUC на TEST= 0.8510878323932313\n",
            "19 ROC-AUC на TRAIN = 0.9533589577351733 ROC-AUC на TEST= 0.8527800161160356\n",
            "22 ROC-AUC на TRAIN = 0.9596647216819487 ROC-AUC на TEST= 0.852054794520548\n",
            "25 ROC-AUC на TRAIN = 0.967305733074002 ROC-AUC на TEST= 0.8542304593070106\n",
            "28 ROC-AUC на TRAIN = 0.9741594887468741 ROC-AUC на TEST= 0.8531829170024174\n",
            "31 ROC-AUC на TRAIN = 0.9788367139020098 ROC-AUC на TEST= 0.8503626107977438\n",
            "34 ROC-AUC на TRAIN = 0.9833441388039887 ROC-AUC на TEST= 0.8501208702659145\n",
            "37 ROC-AUC на TRAIN = 0.9866320891605693 ROC-AUC на TEST= 0.8522965350523771\n",
            "40 ROC-AUC на TRAIN = 0.99042944027662 ROC-AUC на TEST= 0.853908138597905\n",
            "43 ROC-AUC на TRAIN = 0.9936247723132969 ROC-AUC на TEST= 0.8534246575342466\n",
            "46 ROC-AUC на TRAIN = 0.9959247939242383 ROC-AUC на TEST= 0.8513295729250605\n",
            "49 ROC-AUC на TRAIN = 0.9974838689759501 ROC-AUC на TEST= 0.8486704270749396\n",
            "52 ROC-AUC на TRAIN = 0.9982093791485289 ROC-AUC на TEST= 0.8451248992747784\n",
            "55 ROC-AUC на TRAIN = 0.9988577073878547 ROC-AUC на TEST= 0.8442385173247382\n",
            "58 ROC-AUC на TRAIN = 0.9993979809206261 ROC-AUC на TEST= 0.845447219983884\n",
            "61 ROC-AUC на TRAIN = 0.9996603994936866 ROC-AUC на TEST= 0.8424657534246576\n",
            "64 ROC-AUC на TRAIN = 0.9997684542002409 ROC-AUC на TEST= 0.8420628525382755\n",
            "67 ROC-AUC на TRAIN = 0.9998919452934457 ROC-AUC на TEST= 0.8434327155519742\n",
            "70 ROC-AUC на TRAIN = 0.999876508906795 ROC-AUC на TEST= 0.8453666398066075\n",
            "73 ROC-AUC на TRAIN = 0.9999228180667469 ROC-AUC на TEST= 0.8425463336019339\n",
            "76 ROC-AUC на TRAIN = 0.9999691272266987 ROC-AUC на TEST= 0.843593875906527\n",
            "79 ROC-AUC на TRAIN = 1.0 ROC-AUC на TEST= 0.841498791297341\n"
          ],
          "name": "stdout"
        }
      ]
    },
    {
      "cell_type": "code",
      "metadata": {
        "id": "LBMWD_hbbUn8",
        "colab_type": "code",
        "colab": {
          "base_uri": "https://localhost:8080/",
          "height": 291
        },
        "outputId": "9e81d42a-8a62-4404-c6ca-c55822122219"
      },
      "source": [
        "a = np.array(aspis)\n",
        "b = np.array(roc_znach_5)\n",
        "\n",
        "plt.plot(a, b)\n",
        "plt.title('Зависимость ROC-AUC от MAX_ITER для HIST Gradient Boosting Classifier')\n",
        "plt.xlabel('N_ESTIMATORS')\n",
        "plt.ylabel('ROC-AUC')\n",
        "plt.show()"
      ],
      "execution_count": 150,
      "outputs": [
        {
          "output_type": "display_data",
          "data": {
            "image/png": "[encoded data removed]",
            "text/plain": [
              "<Figure size 432x288 with 1 Axes>"
            ]
          },
          "metadata": {
            "tags": []
          }
        }
      ]
    },
    {
      "cell_type": "code",
      "metadata": {
        "id": "YZiZ0kcnbjgZ",
        "colab_type": "code",
        "colab": {}
      },
      "source": [
        "#Как мы видим, оптимальное число деревьев - 25. Обучим модель и посмотрим старые метрики."
      ],
      "execution_count": 0,
      "outputs": []
    },
    {
      "cell_type": "code",
      "metadata": {
        "id": "e6bgPy9tbJNb",
        "colab_type": "code",
        "colab": {
          "base_uri": "https://localhost:8080/",
          "height": 68
        },
        "outputId": "7da7cfe5-1a1c-419f-9a82-ab889c07fd5a"
      },
      "source": [
        "mode = HistGradientBoostingClassifier(max_iter = 25, random_state = 11).fit(X_train, y_train) \n",
        "print('Accuracy TRAIN = ', accuracy_score(y_train, mode.predict(X_train)), 'Accuracy TEST = ', accuracy_score(y_test, mode.predict(X_test)))\n",
        "print('Precision TRAIN = ', precision_score(y_train, mode.predict(X_train)), 'Precision TEST = ', precision_score(y_test, mode.predict(X_test)))\n",
        "print('Recall TRAIN = ', recall_score(y_train, mode.predict(X_train)), 'Recall TEST = ', recall_score(y_test, mode.predict(X_test)))"
      ],
      "execution_count": 151,
      "outputs": [
        {
          "output_type": "stream",
          "text": [
            "Accuracy TRAIN =  0.8994413407821229 Accuracy TEST =  0.7662337662337663\n",
            "Precision TRAIN =  0.9006211180124224 Precision TEST =  0.7246376811594203\n",
            "Recall TRAIN =  0.7923497267759563 Recall TEST =  0.5882352941176471\n"
          ],
          "name": "stdout"
        }
      ]
    },
    {
      "cell_type": "code",
      "metadata": {
        "id": "0VhWkrmFBKNt",
        "colab_type": "code",
        "colab": {}
      },
      "source": [
        "#По сравнению с обычным градиентным бустингом (выше) Accuracy, Precision увеличились, реколл чуть упал. Однако случайный лес опередить не удалось."
      ],
      "execution_count": 0,
      "outputs": []
    },
    {
      "cell_type": "markdown",
      "metadata": {
        "id": "q4ecjteI-SaT",
        "colab_type": "text"
      },
      "source": [
        "**7. (1.5 балла)** Вспомните, что представляет собой [стэкинг моделей](https://scikit-learn.org/stable/modules/generated/sklearn.ensemble.StackingClassifier.html#sklearn.ensemble.StackingClassifier). Возьмите в качестве базовых моделей любой ансамблевый метод из тех, которые были использованы выше, и простой классфикатор из уже вами изученных на курсе. Как final_estimator используйте лог-регресссию. Посчитайте метрики для мета-классификатора. Улучшилось ли качество?"
      ]
    },
    {
      "cell_type": "code",
      "metadata": {
        "id": "H_Vs2zRRd8KC",
        "colab_type": "code",
        "colab": {}
      },
      "source": [
        "#стакать будем случайный лес и классификатор стохастического градиентного спуска"
      ],
      "execution_count": 0,
      "outputs": []
    },
    {
      "cell_type": "code",
      "metadata": {
        "ExecuteTime": {
          "end_time": "2020-05-17T13:53:07.245421Z",
          "start_time": "2020-05-17T13:53:07.238527Z"
        },
        "id": "1kgDVwCm-SaV",
        "colab_type": "code",
        "colab": {}
      },
      "source": [
        "from sklearn.ensemble import StackingClassifier\n",
        "from sklearn.linear_model import LogisticRegression\n",
        "from sklearn.linear_model import SGDClassifier"
      ],
      "execution_count": 0,
      "outputs": []
    },
    {
      "cell_type": "code",
      "metadata": {
        "id": "MjVg6RErIser",
        "colab_type": "code",
        "colab": {}
      },
      "source": [
        "base_learners = [ ('RandomForestClassifier', RandomForestClassifier(min_samples_leaf = 4, random_state=11)), \n",
        "                 ('SGDClassifier', SGDClassifier(loss=\"log\", alpha=0.01, max_iter=100, fit_intercept=True, random_state=11))]"
      ],
      "execution_count": 0,
      "outputs": []
    },
    {
      "cell_type": "code",
      "metadata": {
        "id": "9aoqIaOPeI2M",
        "colab_type": "code",
        "colab": {}
      },
      "source": [
        "#далее обучаем стакнутый классификатор с финальным - лог регрессией и проверяем наши стандартные метрики"
      ],
      "execution_count": 0,
      "outputs": []
    },
    {
      "cell_type": "code",
      "metadata": {
        "id": "6LvUBJDFKyHr",
        "colab_type": "code",
        "outputId": "2e23fb4e-fe9f-4fca-b534-8cd13f3e9b1b",
        "colab": {
          "base_uri": "https://localhost:8080/",
          "height": 85
        }
      },
      "source": [
        "fin_clf = StackingClassifier(base_learners, final_estimator=LogisticRegression())\n",
        "fin_clf.fit(X_train, y_train)\n",
        "fin_preds = fin_clf.predict(X_test)\n",
        "print('Accuracy TEST = ', accuracy_score(y_test, fin_preds))\n",
        "print('Precision TEST = ', precision_score(y_test, fin_preds))\n",
        "print('Recall TEST = ', recall_score(y_test, fin_preds))"
      ],
      "execution_count": 161,
      "outputs": [
        {
          "output_type": "stream",
          "text": [
            "Accuracy TEST =  0.7835497835497836\n",
            "Precision TEST =  0.7536231884057971\n",
            "Recall TEST =  0.611764705882353\n",
            "ROC-AUC TEST =  0.7476631748589847\n"
          ],
          "name": "stdout"
        }
      ]
    },
    {
      "cell_type": "code",
      "metadata": {
        "id": "W-0z5Yl5LfPg",
        "colab_type": "code",
        "colab": {}
      },
      "source": [
        "#Ура! Мы получили качество большее, чем все, что мы получали выше (по Accuracy, Presicion и Recall), и его уже можно назвать высоким.\n",
        "#Да, качество улучшилось!"
      ],
      "execution_count": 0,
      "outputs": []
    },
    {
      "cell_type": "markdown",
      "metadata": {
        "ExecuteTime": {
          "end_time": "2020-05-17T14:00:45.438403Z",
          "start_time": "2020-05-17T14:00:45.426725Z"
        },
        "id": "p2CBPrzp-SaZ",
        "colab_type": "text"
      },
      "source": [
        "*tip: не забудьте завести список базовых алгоритмов*\n",
        "<code>\n",
        "base_learners = [\n",
        "                 ('name1', model1(),\n",
        "                 ('name2', model2())             \n",
        "                ]\n",
        "\n",
        "</code>"
      ]
    }
  ]
}